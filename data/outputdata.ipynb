{
 "cells": [
  {
   "cell_type": "code",
   "execution_count": 13,
   "metadata": {
    "collapsed": true
   },
   "outputs": [],
   "source": [
    "import pandas as pd"
   ]
  },
  {
   "cell_type": "code",
   "execution_count": 14,
   "metadata": {
    "collapsed": false
   },
   "outputs": [],
   "source": [
    "ontime_201401=pd.read_csv(\"ontime_201401.csv\")"
   ]
  },
  {
   "cell_type": "code",
   "execution_count": 15,
   "metadata": {
    "collapsed": false
   },
   "outputs": [
    {
     "data": {
      "text/html": [
       "<div style=\"max-height:1000px;max-width:1500px;overflow:auto;\">\n",
       "<table border=\"1\" class=\"dataframe\">\n",
       "  <thead>\n",
       "    <tr style=\"text-align: right;\">\n",
       "      <th></th>\n",
       "      <th>YEAR</th>\n",
       "      <th>MONTH</th>\n",
       "      <th>FL_DATE</th>\n",
       "      <th>UNIQUE_CARRIER</th>\n",
       "      <th>AIRLINE_ID</th>\n",
       "      <th>FL_NUM</th>\n",
       "      <th>ORIGIN_AIRPORT_ID</th>\n",
       "      <th>ORIGIN</th>\n",
       "      <th>ORIGIN_CITY_NAME</th>\n",
       "      <th>ORIGIN_STATE_ABR</th>\n",
       "      <th>...</th>\n",
       "      <th>DEP_TIME</th>\n",
       "      <th>DEP_DELAY</th>\n",
       "      <th>ARR_TIME</th>\n",
       "      <th>ARR_DELAY</th>\n",
       "      <th>CARRIER_DELAY</th>\n",
       "      <th>WEATHER_DELAY</th>\n",
       "      <th>NAS_DELAY</th>\n",
       "      <th>SECURITY_DELAY</th>\n",
       "      <th>LATE_AIRCRAFT_DELAY</th>\n",
       "      <th>Unnamed: 25</th>\n",
       "    </tr>\n",
       "  </thead>\n",
       "  <tbody>\n",
       "    <tr>\n",
       "      <th>0</th>\n",
       "      <td> 2014</td>\n",
       "      <td> 1</td>\n",
       "      <td> 2014-01-01</td>\n",
       "      <td> AA</td>\n",
       "      <td> 19805</td>\n",
       "      <td> 1</td>\n",
       "      <td> 12478</td>\n",
       "      <td> JFK</td>\n",
       "      <td> New York, NY</td>\n",
       "      <td> NY</td>\n",
       "      <td>...</td>\n",
       "      <td>  914</td>\n",
       "      <td>  14</td>\n",
       "      <td> 1238</td>\n",
       "      <td>  13</td>\n",
       "      <td>NaN</td>\n",
       "      <td> NaN</td>\n",
       "      <td>NaN</td>\n",
       "      <td>NaN</td>\n",
       "      <td>NaN</td>\n",
       "      <td>NaN</td>\n",
       "    </tr>\n",
       "    <tr>\n",
       "      <th>1</th>\n",
       "      <td> 2014</td>\n",
       "      <td> 1</td>\n",
       "      <td> 2014-01-02</td>\n",
       "      <td> AA</td>\n",
       "      <td> 19805</td>\n",
       "      <td> 1</td>\n",
       "      <td> 12478</td>\n",
       "      <td> JFK</td>\n",
       "      <td> New York, NY</td>\n",
       "      <td> NY</td>\n",
       "      <td>...</td>\n",
       "      <td>  857</td>\n",
       "      <td>  -3</td>\n",
       "      <td> 1226</td>\n",
       "      <td>   1</td>\n",
       "      <td>NaN</td>\n",
       "      <td> NaN</td>\n",
       "      <td>NaN</td>\n",
       "      <td>NaN</td>\n",
       "      <td>NaN</td>\n",
       "      <td>NaN</td>\n",
       "    </tr>\n",
       "    <tr>\n",
       "      <th>2</th>\n",
       "      <td> 2014</td>\n",
       "      <td> 1</td>\n",
       "      <td> 2014-01-03</td>\n",
       "      <td> AA</td>\n",
       "      <td> 19805</td>\n",
       "      <td> 1</td>\n",
       "      <td> 12478</td>\n",
       "      <td> JFK</td>\n",
       "      <td> New York, NY</td>\n",
       "      <td> NY</td>\n",
       "      <td>...</td>\n",
       "      <td>  NaN</td>\n",
       "      <td> NaN</td>\n",
       "      <td>  NaN</td>\n",
       "      <td> NaN</td>\n",
       "      <td>NaN</td>\n",
       "      <td> NaN</td>\n",
       "      <td>NaN</td>\n",
       "      <td>NaN</td>\n",
       "      <td>NaN</td>\n",
       "      <td>NaN</td>\n",
       "    </tr>\n",
       "    <tr>\n",
       "      <th>3</th>\n",
       "      <td> 2014</td>\n",
       "      <td> 1</td>\n",
       "      <td> 2014-01-04</td>\n",
       "      <td> AA</td>\n",
       "      <td> 19805</td>\n",
       "      <td> 1</td>\n",
       "      <td> 12478</td>\n",
       "      <td> JFK</td>\n",
       "      <td> New York, NY</td>\n",
       "      <td> NY</td>\n",
       "      <td>...</td>\n",
       "      <td> 1005</td>\n",
       "      <td>  65</td>\n",
       "      <td> 1324</td>\n",
       "      <td>  59</td>\n",
       "      <td>  0</td>\n",
       "      <td>  59</td>\n",
       "      <td>  0</td>\n",
       "      <td>  0</td>\n",
       "      <td>  0</td>\n",
       "      <td>NaN</td>\n",
       "    </tr>\n",
       "    <tr>\n",
       "      <th>4</th>\n",
       "      <td> 2014</td>\n",
       "      <td> 1</td>\n",
       "      <td> 2014-01-05</td>\n",
       "      <td> AA</td>\n",
       "      <td> 19805</td>\n",
       "      <td> 1</td>\n",
       "      <td> 12478</td>\n",
       "      <td> JFK</td>\n",
       "      <td> New York, NY</td>\n",
       "      <td> NY</td>\n",
       "      <td>...</td>\n",
       "      <td> 1050</td>\n",
       "      <td> 110</td>\n",
       "      <td> 1415</td>\n",
       "      <td> 110</td>\n",
       "      <td>  0</td>\n",
       "      <td> 110</td>\n",
       "      <td>  0</td>\n",
       "      <td>  0</td>\n",
       "      <td>  0</td>\n",
       "      <td>NaN</td>\n",
       "    </tr>\n",
       "  </tbody>\n",
       "</table>\n",
       "<p>5 rows × 26 columns</p>\n",
       "</div>"
      ],
      "text/plain": [
       "   YEAR  MONTH     FL_DATE UNIQUE_CARRIER  AIRLINE_ID  FL_NUM  \\\n",
       "0  2014      1  2014-01-01             AA       19805       1   \n",
       "1  2014      1  2014-01-02             AA       19805       1   \n",
       "2  2014      1  2014-01-03             AA       19805       1   \n",
       "3  2014      1  2014-01-04             AA       19805       1   \n",
       "4  2014      1  2014-01-05             AA       19805       1   \n",
       "\n",
       "   ORIGIN_AIRPORT_ID ORIGIN ORIGIN_CITY_NAME ORIGIN_STATE_ABR  \\\n",
       "0              12478    JFK     New York, NY               NY   \n",
       "1              12478    JFK     New York, NY               NY   \n",
       "2              12478    JFK     New York, NY               NY   \n",
       "3              12478    JFK     New York, NY               NY   \n",
       "4              12478    JFK     New York, NY               NY   \n",
       "\n",
       "        ...        DEP_TIME  DEP_DELAY ARR_TIME ARR_DELAY CARRIER_DELAY  \\\n",
       "0       ...             914         14     1238        13           NaN   \n",
       "1       ...             857         -3     1226         1           NaN   \n",
       "2       ...             NaN        NaN      NaN       NaN           NaN   \n",
       "3       ...            1005         65     1324        59             0   \n",
       "4       ...            1050        110     1415       110             0   \n",
       "\n",
       "  WEATHER_DELAY  NAS_DELAY  SECURITY_DELAY  LATE_AIRCRAFT_DELAY  Unnamed: 25  \n",
       "0           NaN        NaN             NaN                  NaN          NaN  \n",
       "1           NaN        NaN             NaN                  NaN          NaN  \n",
       "2           NaN        NaN             NaN                  NaN          NaN  \n",
       "3            59          0               0                    0          NaN  \n",
       "4           110          0               0                    0          NaN  \n",
       "\n",
       "[5 rows x 26 columns]"
      ]
     },
     "execution_count": 15,
     "metadata": {},
     "output_type": "execute_result"
    }
   ],
   "source": [
    "ontime_201401.head()"
   ]
  },
  {
   "cell_type": "code",
   "execution_count": 16,
   "metadata": {
    "collapsed": true
   },
   "outputs": [],
   "source": [
    "ontime_201402=pd.read_csv(\"ontime_201402.csv\")"
   ]
  },
  {
   "cell_type": "code",
   "execution_count": 17,
   "metadata": {
    "collapsed": false
   },
   "outputs": [
    {
     "data": {
      "text/plain": [
       "(430602, 26)"
      ]
     },
     "execution_count": 17,
     "metadata": {},
     "output_type": "execute_result"
    }
   ],
   "source": [
    "ontime_201402.shape"
   ]
  },
  {
   "cell_type": "code",
   "execution_count": 18,
   "metadata": {
    "collapsed": false
   },
   "outputs": [
    {
     "data": {
      "text/plain": [
       "YEAR                              2014\n",
       "MONTH                                2\n",
       "FL_DATE                     2014-02-01\n",
       "UNIQUE_CARRIER                      AA\n",
       "AIRLINE_ID                       19805\n",
       "FL_NUM                               1\n",
       "ORIGIN_AIRPORT_ID                12478\n",
       "ORIGIN                             JFK\n",
       "ORIGIN_CITY_NAME          New York, NY\n",
       "ORIGIN_STATE_ABR                    NY\n",
       "ORIGIN_STATE_NM               New York\n",
       "DEST_AIRPORT_ID                  12892\n",
       "DEST                               LAX\n",
       "DEST_CITY_NAME         Los Angeles, CA\n",
       "DEST_STATE_ABR                      CA\n",
       "DEST_STATE_NM               California\n",
       "DEP_TIME                           859\n",
       "DEP_DELAY                           -1\n",
       "ARR_TIME                          1226\n",
       "ARR_DELAY                            1\n",
       "CARRIER_DELAY                      NaN\n",
       "WEATHER_DELAY                      NaN\n",
       "NAS_DELAY                          NaN\n",
       "SECURITY_DELAY                     NaN\n",
       "LATE_AIRCRAFT_DELAY                NaN\n",
       "Unnamed: 25                        NaN\n",
       "Name: 0, dtype: object"
      ]
     },
     "execution_count": 18,
     "metadata": {},
     "output_type": "execute_result"
    }
   ],
   "source": [
    "ontime_201402.iloc[0]"
   ]
  },
  {
   "cell_type": "code",
   "execution_count": 19,
   "metadata": {
    "collapsed": false
   },
   "outputs": [
    {
     "name": "stderr",
     "output_type": "stream",
     "text": [
      "/Users/vivian/anaconda/lib/python2.7/site-packages/pandas/io/parsers.py:1139: DtypeWarning: Columns (29,30,31,32,34,35,39,40,41,42,43,44,45,47,48) have mixed types. Specify dtype option on import or set low_memory=False.\n",
      "  data = self._reader.read(nrows)\n"
     ]
    }
   ],
   "source": [
    "airport=pd.read_csv(\"airports.csv\")"
   ]
  },
  {
   "cell_type": "code",
   "execution_count": 20,
   "metadata": {
    "collapsed": false
   },
   "outputs": [
    {
     "data": {
      "text/html": [
       "<div style=\"max-height:1000px;max-width:1500px;overflow:auto;\">\n",
       "<table border=\"1\" class=\"dataframe\">\n",
       "  <thead>\n",
       "    <tr style=\"text-align: right;\">\n",
       "      <th></th>\n",
       "      <th>id</th>\n",
       "      <th>ident</th>\n",
       "      <th>type</th>\n",
       "      <th>name</th>\n",
       "      <th>latitude_deg</th>\n",
       "      <th>longitude_deg</th>\n",
       "      <th>elevation_ft</th>\n",
       "      <th>continent</th>\n",
       "      <th>iso_country</th>\n",
       "      <th>iso_region</th>\n",
       "      <th>...</th>\n",
       "      <th>Unnamed: 39</th>\n",
       "      <th>Unnamed: 40</th>\n",
       "      <th>Unnamed: 41</th>\n",
       "      <th>Unnamed: 42</th>\n",
       "      <th>Unnamed: 43</th>\n",
       "      <th>Unnamed: 44</th>\n",
       "      <th>Unnamed: 45</th>\n",
       "      <th>Unnamed: 46</th>\n",
       "      <th>Unnamed: 47</th>\n",
       "      <th>Unnamed: 48</th>\n",
       "    </tr>\n",
       "  </thead>\n",
       "  <tbody>\n",
       "    <tr>\n",
       "      <th>0</th>\n",
       "      <td> 6523</td>\n",
       "      <td>  00A</td>\n",
       "      <td>      heliport</td>\n",
       "      <td>                  Total Rf Heliport</td>\n",
       "      <td> 40.070801</td>\n",
       "      <td> -74.933601</td>\n",
       "      <td>   11</td>\n",
       "      <td> NaN</td>\n",
       "      <td> US</td>\n",
       "      <td> US-PA</td>\n",
       "      <td>...</td>\n",
       "      <td> NaN</td>\n",
       "      <td> NaN</td>\n",
       "      <td> NaN</td>\n",
       "      <td> NaN</td>\n",
       "      <td> NaN</td>\n",
       "      <td> NaN</td>\n",
       "      <td> NaN</td>\n",
       "      <td>NaN</td>\n",
       "      <td> NaN</td>\n",
       "      <td> NaN</td>\n",
       "    </tr>\n",
       "    <tr>\n",
       "      <th>1</th>\n",
       "      <td> 6524</td>\n",
       "      <td> 00AK</td>\n",
       "      <td> small_airport</td>\n",
       "      <td>                       Lowell Field</td>\n",
       "      <td> 59.949200</td>\n",
       "      <td>-151.695999</td>\n",
       "      <td>  450</td>\n",
       "      <td> NaN</td>\n",
       "      <td> US</td>\n",
       "      <td> US-AK</td>\n",
       "      <td>...</td>\n",
       "      <td> NaN</td>\n",
       "      <td> NaN</td>\n",
       "      <td> NaN</td>\n",
       "      <td> NaN</td>\n",
       "      <td> NaN</td>\n",
       "      <td> NaN</td>\n",
       "      <td> NaN</td>\n",
       "      <td>NaN</td>\n",
       "      <td> NaN</td>\n",
       "      <td> NaN</td>\n",
       "    </tr>\n",
       "    <tr>\n",
       "      <th>2</th>\n",
       "      <td> 6525</td>\n",
       "      <td> 00AL</td>\n",
       "      <td> small_airport</td>\n",
       "      <td>                       Epps Airpark</td>\n",
       "      <td> 34.864799</td>\n",
       "      <td> -86.770302</td>\n",
       "      <td>  820</td>\n",
       "      <td> NaN</td>\n",
       "      <td> US</td>\n",
       "      <td> US-AL</td>\n",
       "      <td>...</td>\n",
       "      <td> NaN</td>\n",
       "      <td> NaN</td>\n",
       "      <td> NaN</td>\n",
       "      <td> NaN</td>\n",
       "      <td> NaN</td>\n",
       "      <td> NaN</td>\n",
       "      <td> NaN</td>\n",
       "      <td>NaN</td>\n",
       "      <td> NaN</td>\n",
       "      <td> NaN</td>\n",
       "    </tr>\n",
       "    <tr>\n",
       "      <th>3</th>\n",
       "      <td> 6526</td>\n",
       "      <td> 00AR</td>\n",
       "      <td>      heliport</td>\n",
       "      <td> Newport Hospital &amp; Clinic Heliport</td>\n",
       "      <td> 35.608700</td>\n",
       "      <td> -91.254898</td>\n",
       "      <td>  237</td>\n",
       "      <td> NaN</td>\n",
       "      <td> US</td>\n",
       "      <td> US-AR</td>\n",
       "      <td>...</td>\n",
       "      <td> NaN</td>\n",
       "      <td> NaN</td>\n",
       "      <td> NaN</td>\n",
       "      <td> NaN</td>\n",
       "      <td> NaN</td>\n",
       "      <td> NaN</td>\n",
       "      <td> NaN</td>\n",
       "      <td>NaN</td>\n",
       "      <td> NaN</td>\n",
       "      <td> NaN</td>\n",
       "    </tr>\n",
       "    <tr>\n",
       "      <th>4</th>\n",
       "      <td> 6527</td>\n",
       "      <td> 00AZ</td>\n",
       "      <td> small_airport</td>\n",
       "      <td>                     Cordes Airport</td>\n",
       "      <td> 34.305599</td>\n",
       "      <td>-112.165001</td>\n",
       "      <td> 3810</td>\n",
       "      <td> NaN</td>\n",
       "      <td> US</td>\n",
       "      <td> US-AZ</td>\n",
       "      <td>...</td>\n",
       "      <td> NaN</td>\n",
       "      <td> NaN</td>\n",
       "      <td> NaN</td>\n",
       "      <td> NaN</td>\n",
       "      <td> NaN</td>\n",
       "      <td> NaN</td>\n",
       "      <td> NaN</td>\n",
       "      <td>NaN</td>\n",
       "      <td> NaN</td>\n",
       "      <td> NaN</td>\n",
       "    </tr>\n",
       "  </tbody>\n",
       "</table>\n",
       "<p>5 rows × 49 columns</p>\n",
       "</div>"
      ],
      "text/plain": [
       "     id ident           type                                name  \\\n",
       "0  6523   00A       heliport                   Total Rf Heliport   \n",
       "1  6524  00AK  small_airport                        Lowell Field   \n",
       "2  6525  00AL  small_airport                        Epps Airpark   \n",
       "3  6526  00AR       heliport  Newport Hospital & Clinic Heliport   \n",
       "4  6527  00AZ  small_airport                      Cordes Airport   \n",
       "\n",
       "   latitude_deg  longitude_deg  elevation_ft continent iso_country iso_region  \\\n",
       "0     40.070801     -74.933601            11       NaN          US      US-PA   \n",
       "1     59.949200    -151.695999           450       NaN          US      US-AK   \n",
       "2     34.864799     -86.770302           820       NaN          US      US-AL   \n",
       "3     35.608700     -91.254898           237       NaN          US      US-AR   \n",
       "4     34.305599    -112.165001          3810       NaN          US      US-AZ   \n",
       "\n",
       "     ...     Unnamed: 39 Unnamed: 40 Unnamed: 41 Unnamed: 42 Unnamed: 43  \\\n",
       "0    ...             NaN         NaN         NaN         NaN         NaN   \n",
       "1    ...             NaN         NaN         NaN         NaN         NaN   \n",
       "2    ...             NaN         NaN         NaN         NaN         NaN   \n",
       "3    ...             NaN         NaN         NaN         NaN         NaN   \n",
       "4    ...             NaN         NaN         NaN         NaN         NaN   \n",
       "\n",
       "  Unnamed: 44 Unnamed: 45 Unnamed: 46 Unnamed: 47 Unnamed: 48  \n",
       "0         NaN         NaN         NaN         NaN         NaN  \n",
       "1         NaN         NaN         NaN         NaN         NaN  \n",
       "2         NaN         NaN         NaN         NaN         NaN  \n",
       "3         NaN         NaN         NaN         NaN         NaN  \n",
       "4         NaN         NaN         NaN         NaN         NaN  \n",
       "\n",
       "[5 rows x 49 columns]"
      ]
     },
     "execution_count": 20,
     "metadata": {},
     "output_type": "execute_result"
    }
   ],
   "source": [
    "airport.head()"
   ]
  },
  {
   "cell_type": "code",
   "execution_count": 21,
   "metadata": {
    "collapsed": false
   },
   "outputs": [],
   "source": [
    "US_airport=airport[airport.iso_country==\"US\"]"
   ]
  },
  {
   "cell_type": "code",
   "execution_count": 22,
   "metadata": {
    "collapsed": false,
    "scrolled": true
   },
   "outputs": [],
   "source": [
    "airportData=US_airport[[\"municipality\",\"latitude_deg\",\"longitude_deg\"]]"
   ]
  },
  {
   "cell_type": "code",
   "execution_count": 23,
   "metadata": {
    "collapsed": false
   },
   "outputs": [
    {
     "data": {
      "text/html": [
       "<div style=\"max-height:1000px;max-width:1500px;overflow:auto;\">\n",
       "<table border=\"1\" class=\"dataframe\">\n",
       "  <thead>\n",
       "    <tr style=\"text-align: right;\">\n",
       "      <th></th>\n",
       "      <th>municipality</th>\n",
       "      <th>latitude_deg</th>\n",
       "      <th>longitude_deg</th>\n",
       "    </tr>\n",
       "  </thead>\n",
       "  <tbody>\n",
       "    <tr>\n",
       "      <th>0</th>\n",
       "      <td>     Bensalem</td>\n",
       "      <td> 40.070801</td>\n",
       "      <td> -74.933601</td>\n",
       "    </tr>\n",
       "    <tr>\n",
       "      <th>1</th>\n",
       "      <td> Anchor Point</td>\n",
       "      <td> 59.949200</td>\n",
       "      <td>-151.695999</td>\n",
       "    </tr>\n",
       "    <tr>\n",
       "      <th>2</th>\n",
       "      <td>      Harvest</td>\n",
       "      <td> 34.864799</td>\n",
       "      <td> -86.770302</td>\n",
       "    </tr>\n",
       "    <tr>\n",
       "      <th>3</th>\n",
       "      <td>      Newport</td>\n",
       "      <td> 35.608700</td>\n",
       "      <td> -91.254898</td>\n",
       "    </tr>\n",
       "    <tr>\n",
       "      <th>4</th>\n",
       "      <td>       Cordes</td>\n",
       "      <td> 34.305599</td>\n",
       "      <td>-112.165001</td>\n",
       "    </tr>\n",
       "  </tbody>\n",
       "</table>\n",
       "</div>"
      ],
      "text/plain": [
       "   municipality  latitude_deg  longitude_deg\n",
       "0      Bensalem     40.070801     -74.933601\n",
       "1  Anchor Point     59.949200    -151.695999\n",
       "2       Harvest     34.864799     -86.770302\n",
       "3       Newport     35.608700     -91.254898\n",
       "4        Cordes     34.305599    -112.165001"
      ]
     },
     "execution_count": 23,
     "metadata": {},
     "output_type": "execute_result"
    }
   ],
   "source": [
    "airportData.head()"
   ]
  },
  {
   "cell_type": "code",
   "execution_count": 24,
   "metadata": {
    "collapsed": false
   },
   "outputs": [
    {
     "data": {
      "text/plain": [
       "(21490, 3)"
      ]
     },
     "execution_count": 24,
     "metadata": {},
     "output_type": "execute_result"
    }
   ],
   "source": [
    "airportData.shape"
   ]
  },
  {
   "cell_type": "code",
   "execution_count": 25,
   "metadata": {
    "collapsed": false
   },
   "outputs": [],
   "source": [
    "citiesData = []\n",
    "for i in xrange(airportData.shape[0]):\n",
    "    citiesData.append({})\n",
    "    citiesData[i][\"city\"] = airportData[\"municipality\"].iloc[i]\n",
    "    citiesData[i][\"location\"] = {\"lat\": airportData[\"latitude_deg\"].iloc[i],\n",
    "                                \"long\": airportData[\"longitude_deg\"].iloc[i]}\n"
   ]
  },
  {
   "cell_type": "code",
   "execution_count": 26,
   "metadata": {
    "collapsed": false
   },
   "outputs": [
    {
     "data": {
      "text/plain": [
       "[{'city': 'Bensalem',\n",
       "  'location': {'lat': 40.070800779999999, 'long': -74.933601379999999}},\n",
       " {'city': 'Anchor Point',\n",
       "  'location': {'lat': 59.94919968, 'long': -151.69599909999999}},\n",
       " {'city': 'Harvest',\n",
       "  'location': {'lat': 34.864799499999997, 'long': -86.77030182}},\n",
       " {'city': 'Newport',\n",
       "  'location': {'lat': 35.608699799999997, 'long': -91.254898069999996}}]"
      ]
     },
     "execution_count": 26,
     "metadata": {},
     "output_type": "execute_result"
    }
   ],
   "source": [
    "citiesData[:4]"
   ]
  },
  {
   "cell_type": "code",
   "execution_count": 27,
   "metadata": {
    "collapsed": false
   },
   "outputs": [
    {
     "data": {
      "text/plain": [
       "'Bensalem'"
      ]
     },
     "execution_count": 27,
     "metadata": {},
     "output_type": "execute_result"
    }
   ],
   "source": [
    "citiesData[0]['city']"
   ]
  },
  {
   "cell_type": "code",
   "execution_count": 28,
   "metadata": {
    "collapsed": false
   },
   "outputs": [
    {
     "data": {
      "text/plain": [
       "21490"
      ]
     },
     "execution_count": 28,
     "metadata": {},
     "output_type": "execute_result"
    }
   ],
   "source": [
    "len(citiesData)"
   ]
  },
  {
   "cell_type": "code",
   "execution_count": 29,
   "metadata": {
    "collapsed": true
   },
   "outputs": [],
   "source": [
    "import json\n",
    "from json import dumps, load"
   ]
  },
  {
   "cell_type": "code",
   "execution_count": 34,
   "metadata": {
    "collapsed": false
   },
   "outputs": [],
   "source": [
    "with open(\"airport.json\", \"w\") as outfile:\n",
    "    for i in xrange(len(citiesData)):\n",
    "        json.dump(citiesData[i], outfile, separators=(',',':'))"
   ]
  },
  {
   "cell_type": "code",
   "execution_count": 36,
   "metadata": {
    "collapsed": false
   },
   "outputs": [],
   "source": [
    "with open(\"airport.json\", \"w\") as outfile:\n",
    "    dumpData = json.dumps(citiesData, indent=4)\n",
    "    outfile.write(dumpData)"
   ]
  },
  {
   "cell_type": "code",
   "execution_count": 32,
   "metadata": {
    "collapsed": false
   },
   "outputs": [
    {
     "name": "stdout",
     "output_type": "stream",
     "text": [
      "<type 'list'>\n"
     ]
    }
   ],
   "source": [
    "import json\n",
    "from pprint import pprint\n",
    "\n",
    "with open('airport.json') as json_data:\n",
    "    d = json.load(json_data)\n",
    "    print type(d)\n",
    "    json_data.close()\n",
    "    "
   ]
  },
  {
   "cell_type": "code",
   "execution_count": null,
   "metadata": {
    "collapsed": true
   },
   "outputs": [],
   "source": []
  }
 ],
 "metadata": {
  "kernelspec": {
   "display_name": "Python 2",
   "language": "python",
   "name": "python2"
  },
  "language_info": {
   "codemirror_mode": {
    "name": "ipython",
    "version": 2
   },
   "file_extension": ".py",
   "mimetype": "text/x-python",
   "name": "python",
   "nbconvert_exporter": "python",
   "pygments_lexer": "ipython2",
   "version": "2.7.9"
  }
 },
 "nbformat": 4,
 "nbformat_minor": 0
}
