{
 "cells": [
  {
   "cell_type": "code",
   "execution_count": 1,
   "metadata": {
    "collapsed": true
   },
   "outputs": [],
   "source": [
    "%matplotlib inline\n",
    "import numpy as np\n",
    "import pandas as pd"
   ]
  },
  {
   "cell_type": "code",
   "execution_count": 2,
   "metadata": {
    "collapsed": false
   },
   "outputs": [],
   "source": [
    "def clean_data(file):\n",
    "    data = pd.read_csv(file)\n",
    "    data = data[np.isfinite(data['DEP_TIME'])]\n",
    "    data.fillna(0,inplace = True)\n",
    "    return data"
   ]
  },
  {
   "cell_type": "code",
   "execution_count": 14,
   "metadata": {
    "collapsed": false
   },
   "outputs": [
    {
     "name": "stdout",
     "output_type": "stream",
     "text": [
      "../raw_data/ontime_201401.csv\n",
      "(441622, 24)\n",
      "../raw_data/ontime_201402.csv\n",
      "(407351, 24)\n",
      "../raw_data/ontime_201403.csv\n",
      "(494193, 24)\n",
      "../raw_data/ontime_201404.csv\n",
      "(478192, 24)\n",
      "../raw_data/ontime_201405.csv\n",
      "(490240, 24)\n",
      "../raw_data/ontime_201406.csv\n",
      "(492974, 24)\n",
      "../raw_data/ontime_201407.csv\n",
      "(512953, 24)\n",
      "../raw_data/ontime_201408.csv\n",
      "(501826, 24)\n",
      "../raw_data/ontime_201409.csv\n",
      "(463001, 24)\n",
      "../raw_data/ontime_201410.csv\n",
      "(486038, 24)\n",
      "../raw_data/ontime_201411.csv\n",
      "(457966, 24)\n",
      "../raw_data/ontime_201412.csv\n",
      "(470713, 24)\n"
     ]
    }
   ],
   "source": [
    "basic = \"../raw_data/ontime_2014\"\n",
    "data_list = []\n",
    "for i in xrange(1,13):\n",
    "    doc = 0\n",
    "    if i<10:\n",
    "        doc = basic + '0' + str(i) + '.csv'\n",
    "    else:\n",
    "        doc = basic + str(i) + '.csv'\n",
    "    print doc\n",
    "    data = clean_data(doc)\n",
    "    dataMean = data.groupby(['MONTH','UNIQUE_CARRIER','ORIGIN','DEST']).mean()\n",
    "    #print dataMean.shape\n",
    "    dataMean.reset_index(inplace = True)\n",
    "    dataMerge = pd.merge(data[['MONTH','UNIQUE_CARRIER','ORIGIN','DEST', 'ORIGIN_CITY_NAME', \n",
    "                               'ORIGIN_STATE_ABR', 'DEST_CITY_NAME', 'DEST_STATE_ABR']], \n",
    "                         dataMean, on = ['MONTH','UNIQUE_CARRIER','ORIGIN','DEST'],\n",
    "                         how = 'inner')\n",
    "    \n",
    "    # add flight volume\n",
    "    flightVolume = data.groupby(['MONTH','UNIQUE_CARRIER','ORIGIN','DEST']).agg({\"FL_NUM\": np.count_nonzero}).reset_index()\n",
    "    flightVolume.columns = ['MONTH','UNIQUE_CARRIER','ORIGIN','DEST','FLIGHT_VOLUME']\n",
    "    dataMerge = pd.merge(dataMerge, flightVolume, on = ['MONTH','UNIQUE_CARRIER','ORIGIN','DEST'], how = 'inner')\n",
    "\n",
    "    print dataMerge.shape\n",
    "    data_list.append(dataMerge)\n",
    "    #dataMean.to_csv('ontime_avg_2014' +str(i) +'.csv')"
   ]
  },
  {
   "cell_type": "code",
   "execution_count": 15,
   "metadata": {
    "collapsed": false
   },
   "outputs": [
    {
     "name": "stdout",
     "output_type": "stream",
     "text": [
      "Index([u'MONTH', u'UNIQUE_CARRIER', u'ORIGIN', u'DEST', u'ORIGIN_CITY_NAME', u'ORIGIN_STATE_ABR', u'DEST_CITY_NAME', u'DEST_STATE_ABR', u'YEAR', u'AIRLINE_ID', u'FL_NUM', u'ORIGIN_AIRPORT_ID', u'DEST_AIRPORT_ID', u'DEP_TIME', u'DEP_DELAY', u'ARR_TIME', u'ARR_DELAY', u'CARRIER_DELAY', u'WEATHER_DELAY', u'NAS_DELAY', u'SECURITY_DELAY', u'LATE_AIRCRAFT_DELAY', u'Unnamed: 25', u'FLIGHT_VOLUME'], dtype='object')\n"
     ]
    }
   ],
   "source": [
    "print data_list[0].columns"
   ]
  },
  {
   "cell_type": "code",
   "execution_count": 16,
   "metadata": {
    "collapsed": false
   },
   "outputs": [],
   "source": [
    "data_list[0].drop_duplicates(inplace=True)\n",
    "aggregateData = data_list[0]\n",
    "for i in xrange(1,12):\n",
    "    data_list[i].drop_duplicates(inplace=True)\n",
    "    aggregateData = aggregateData.append(data_list[i])"
   ]
  },
  {
   "cell_type": "code",
   "execution_count": 18,
   "metadata": {
    "collapsed": false
   },
   "outputs": [
    {
     "name": "stdout",
     "output_type": "stream",
     "text": [
      "(73544, 19)\n"
     ]
    }
   ],
   "source": [
    "aggregateData.drop(['AIRLINE_ID','DEP_TIME','ARR_TIME','FL_NUM','Unnamed: 25'], axis=1, inplace=True)\n",
    "aggregateData.sort(['MONTH','UNIQUE_CARRIER','ORIGIN','DEST'], inplace=True)\n",
    "print aggregateData.shape\n",
    "aggregateData.to_csv('../avg_data_cleaned/ontime_avg_2014.csv', index=False)"
   ]
  },
  {
   "cell_type": "code",
   "execution_count": null,
   "metadata": {
    "collapsed": true
   },
   "outputs": [],
   "source": []
  }
 ],
 "metadata": {
  "kernelspec": {
   "display_name": "Python 2",
   "language": "python",
   "name": "python2"
  },
  "language_info": {
   "codemirror_mode": {
    "name": "ipython",
    "version": 2
   },
   "file_extension": ".py",
   "mimetype": "text/x-python",
   "name": "python",
   "nbconvert_exporter": "python",
   "pygments_lexer": "ipython2",
   "version": "2.7.9"
  }
 },
 "nbformat": 4,
 "nbformat_minor": 0
}
